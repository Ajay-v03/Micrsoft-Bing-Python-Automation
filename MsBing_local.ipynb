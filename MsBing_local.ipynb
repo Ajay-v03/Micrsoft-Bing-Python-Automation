{
 "cells": [
  {
   "cell_type": "code",
   "execution_count": 2,
   "metadata": {},
   "outputs": [
    {
     "name": "stdout",
     "output_type": "stream",
     "text": [
      "   \n",
      "\n"
     ]
    },
    {
     "name": "stderr",
     "output_type": "stream",
     "text": [
      "[WDM] - Current google-chrome version is 91.0.4472\n",
      "[WDM] - Current google-chrome version is 91.0.4472\n"
     ]
    },
    {
     "name": "stdout",
     "output_type": "stream",
     "text": [
      "\n"
     ]
    },
    {
     "name": "stderr",
     "output_type": "stream",
     "text": [
      "[WDM] - Get LATEST driver version for 91.0.4472\n",
      "[WDM] - Get LATEST driver version for 91.0.4472\n",
      "[WDM] - Current google-chrome version is 91.0.4472\n",
      "[WDM] - Get LATEST driver version for 91.0.4472\n",
      "[WDM] - Driver [/home/karma/.wdm/drivers/chromedriver/linux64/91.0.4472.101/chromedriver] found in cache\n",
      "[WDM] - Driver [/home/karma/.wdm/drivers/chromedriver/linux64/91.0.4472.101/chromedriver] found in cache\n",
      "[WDM] - Driver [/home/karma/.wdm/drivers/chromedriver/linux64/91.0.4472.101/chromedriver] found in cache\n"
     ]
    },
    {
     "name": "stdout",
     "output_type": "stream",
     "text": [
      "1 {'data': [{'name': 'John Joy', 'linkedin_url': 'https://in.linkedin.com/in/johnjoyn'}, {'name': 'John Deere', 'linkedin_url': 'https://www.linkedin.com/company/john-deere'}, {'name': 'John R', 'linkedin_url': 'https://in.linkedin.com/in/john-r-413792216', 'location': 'Mumbai, Maharashtra, India'}, {'name': 'John Federico', 'linkedin_url': 'https://www.linkedin.com/in/johnfederico'}, {'name': 'Rony John', 'linkedin_url': 'https://in.linkedin.com/in/ronyjohn'}, {'name': 'Alexander John', 'linkedin_url': 'https://in.linkedin.com/in/alexanderjohn'}, {'name': 'John R', 'linkedin_url': 'https://in.linkedin.com/in/john-r-413792216', 'location': 'Mumbai, Maharashtra, India'}, {'name': 'Rony John', 'linkedin_url': 'https://in.linkedin.com/in/ronyjohn', 'location': 'Bengaluru'}, {'name': 'John Crane', 'linkedin_url': 'https://www.linkedin.com/company/john-crane'}, {'name': 'John McCartney', 'linkedin_url': 'https://www.linkedin.com/in/johnmccartney1', 'location': 'Los Angeles, California, United States'}, {'name': 'John Goldstein', 'linkedin_url': 'https://ca.linkedin.com/in/johngphotography', 'location': 'Mississauga, Ontario, Canada'}, {'name': 'John Lombard', 'linkedin_url': 'https://sg.linkedin.com/in/jalombard', 'location': 'Singapore'}, {'name': 'John Horsley', 'linkedin_url': 'https://uk.linkedin.com/in/digitalmarketing', 'location': 'London, United Kingdom'}, {'name': 'John Cavebring', 'linkedin_url': 'https://ie.linkedin.com/in/cavebring', 'location': 'Greater Dublin'}, {'name': 'John Koetsier', 'linkedin_url': 'https://ca.linkedin.com/in/johnkoetsier', 'location': 'British Columbia, Canada'}, {'name': 'John McCartney', 'linkedin_url': 'https://www.linkedin.com/in/johnmccartney1', 'location': 'Los Angeles, California, United States'}, {'name': 'John Horsley', 'linkedin_url': 'https://uk.linkedin.com/in/digitalmarketing', 'location': 'London, United Kingdom'}, {'name': 'John Goldstein', 'linkedin_url': 'https://ca.linkedin.com/in/johngphotography', 'location': 'Mississauga, Ontario, Canada'}, {'name': 'John Lee', 'linkedin_url': 'https://uk.linkedin.com/in/johnlee888', 'location': 'Milton Keynes, England, United Kingdom'}, {'name': 'John Sicard', 'linkedin_url': 'https://ca.linkedin.com/in/johnsicard', 'location': 'Ottawa, Ontario, Canada'}, {'name': 'John Ruffolo', 'linkedin_url': 'https://ca.linkedin.com/in/joruffolo', 'location': 'Toronto, Ontario, Canada'}, {'name': 'John Sharp', 'linkedin_url': 'https://sg.linkedin.com/in/johnsharp1', 'location': 'Singapore'}, {'name': 'John Lee', 'linkedin_url': 'https://sg.linkedin.com/in/leejjg', 'location': 'Singapore'}, {'name': 'John Ryan', 'linkedin_url': 'https://uk.linkedin.com/in/johnryanuk', 'location': 'London, England, United Kingdom'}, {'name': 'John McCartney', 'linkedin_url': 'https://www.linkedin.com/in/johnmccartney1', 'location': 'Los Angeles, California, United States'}, {'name': 'John Kim', 'linkedin_url': 'https://sg.linkedin.com/in/john-kim-6241a16', 'location': 'Singapore'}, {'name': 'John Ruffolo', 'linkedin_url': 'https://ca.linkedin.com/in/joruffolo', 'location': 'Toronto, Ontario, Canada'}, {'name': 'John Breslin', 'linkedin_url': 'https://ie.linkedin.com/in/johnbreslin', 'location': 'Ireland'}, {'name': 'John Sicard', 'linkedin_url': 'https://ca.linkedin.com/in/johnsicard', 'location': 'Ottawa, Ontario, Canada'}, {'name': 'John Ryan', 'linkedin_url': 'https://uk.linkedin.com/in/johnryanuk', 'location': 'London, England, United Kingdom'}, {'name': 'John', 'linkedin_url': 'https://ng.linkedin.com/in/jpiwuoha', 'location': 'Nigeria'}, {'name': 'John Allan', 'linkedin_url': 'https://au.linkedin.com/in/johnallanau', 'location': 'Melbourne, Victoria, Australia'}, {'name': 'John Papin', 'linkedin_url': 'https://fr.linkedin.com/in/jpapin', 'location': 'Région de Paris, France'}, {'name': 'John Edwards', 'linkedin_url': 'https://nz.linkedin.com/in/john-edwards-3b138414', 'location': 'Wellington Region, New Zealand'}, {'name': 'John McCartney', 'linkedin_url': 'https://www.linkedin.com/in/johnmccartney1', 'location': 'Los Angeles, California, United States'}, {'name': 'John Barrins', 'linkedin_url': 'https://nl.linkedin.com/in/johnbarrins', 'location': 'Amsterdam, Noord-Holland, Nederland'}, {'name': 'John Chisholm', 'linkedin_url': 'https://au.linkedin.com/in/chisholmjohn', 'location': 'Point Lonsdale, Victoria, Australia'}, {'name': 'John Papin', 'linkedin_url': 'https://fr.linkedin.com/in/jpapin', 'location': 'Région de Paris, France'}, {'name': 'John Pfeffer', 'linkedin_url': 'https://uy.linkedin.com/in/john-pfeffer-17021125', 'location': 'Uruguay'}, {'name': 'John Hermans', 'linkedin_url': 'https://nl.linkedin.com/in/jamhermans', 'location': 'Ohé en Laak, Limburg, Nederland'}, {'name': 'John Kelvie', 'linkedin_url': 'https://pe.linkedin.com/in/john-kelvie', 'location': 'Perú'}, {'name': 'John Graves', 'linkedin_url': 'https://nz.linkedin.com/in/johndgraves', 'location': 'Auckland, Auckland, New Zealand'}, {'name': 'John Lee Dumas', 'linkedin_url': 'https://pr.linkedin.com/in/eofire', 'location': 'Puerto Rico'}, {'name': 'John McCartney', 'linkedin_url': 'https://www.linkedin.com/in/johnmccartney1', 'location': 'Los Angeles, California, United States'}, {'name': 'John Barrins', 'linkedin_url': 'https://nl.linkedin.com/in/johnbarrins', 'location': 'Amsterdam, Noord-Holland, Nederland'}, {'name': 'John Meulemans', 'linkedin_url': 'https://nl.linkedin.com/in/johnmeulemans', 'location': 'Amsterdam, Noord-Holland, Nederland'}, {'name': 'John Gonzalez', 'linkedin_url': 'https://es.linkedin.com/in/johnrgonzalez', 'location': 'Barcelona, Cataluña, España'}, {'name': 'John W.H. Denton AO', 'linkedin_url': 'https://fr.linkedin.com/in/johnwhdenton', 'location': 'France'}, {'name': 'John Martin', 'linkedin_url': 'https://nl.linkedin.com/in/johnrichardmartin', 'location': 'Leiden, Zuid-Holland, Nederland'}, {'name': 'John Rowland', 'linkedin_url': 'https://au.linkedin.com/in/john-rowland-443773', 'location': 'Greater Melbourne'}, {'name': 'John Lee Dumas', 'linkedin_url': 'https://pr.linkedin.com/in/eofire', 'location': 'Puerto Rico'}, {'name': 'John Lavelle', 'linkedin_url': 'https://fr.linkedin.com/in/john-lavelle', 'location': 'Nantes, Pays de la Loire, France'}, {'name': 'John Laney', 'linkedin_url': 'https://mx.linkedin.com/in/johnlaney', 'location': 'Playas de Rosarito, Baja California, México'}, {'name': 'John McCartney', 'linkedin_url': 'https://www.linkedin.com/in/johnmccartney1', 'location': 'Los Angeles, California, United States'}, {'name': 'John W.H. Denton AO', 'linkedin_url': 'https://fr.linkedin.com/in/johnwhdenton', 'location': 'France'}, {'name': 'John Porter', 'linkedin_url': 'https://be.linkedin.com/in/john-porter-1232b4a', 'location': 'Antwerp Metropolitan'}, {'name': 'John Dale Beckley', 'linkedin_url': 'https://es.linkedin.com/in/johnbeckley', 'location': 'Adeje, Canarias, España'}, {'name': 'John Lavelle', 'linkedin_url': 'https://fr.linkedin.com/in/john-lavelle', 'location': 'Nantes, Pays de la Loire, France'}, {'name': 'John Laney', 'linkedin_url': 'https://mx.linkedin.com/in/johnlaney', 'location': 'Playas de Rosarito, Baja California, México'}, {'name': 'John Cantin', 'linkedin_url': 'https://nz.linkedin.com/in/johnfcantin', 'location': 'Wellington Region, New Zealand'}, {'name': 'John M. Lervik', 'linkedin_url': 'https://no.linkedin.com/in/jlervik', 'location': 'Lysaker, Akershus fylke, Norge'}, {'name': 'John McCartney', 'linkedin_url': 'https://www.linkedin.com/in/johnmccartney1', 'location': 'Los Angeles, California, United States'}, {'name': 'John M. Lervik', 'linkedin_url': 'https://no.linkedin.com/in/jlervik', 'location': 'Lysaker, Akershus fylke, Norge'}, {'name': 'John Mudd', 'linkedin_url': 'https://pr.linkedin.com/in/john-mudd-a3543332', 'location': 'Puerto Rico'}, {'name': 'John McCartney', 'linkedin_url': 'https://www.linkedin.com/in/johnmccartney1', 'location': 'Los Angeles, California, United States'}, {'name': 'AdExchanger (', 'linkedin_url': 'https://twitter.com/adexchanger'}, {'name': 'John Labuzan', 'linkedin_url': 'https://fr.linkedin.com/in/johnlabuzan', 'location': 'Bordeaux, Nouvelle-Aquitaine, France'}, {'name': 'John Straw', 'linkedin_url': 'https://uk.linkedin.com/in/johnstraw', 'location': 'London'}, {'name': 'John D. Delizo', 'linkedin_url': 'https://ph.linkedin.com/in/johndelizo', 'location': 'Metro Manila, National Capital Region, Philippines'}, {'name': 'John Company Voth', 'linkedin_url': 'https://ru.linkedin.com/in/john-company-voth-35283683', 'location': 'Москва, Московская область, Россия'}, {'name': 'John Moore', 'linkedin_url': 'https://za.linkedin.com/in/john-moore-62907625', 'location': 'City of Cape Town, Western Cape, South Africa'}, {'name': 'John McCartney', 'linkedin_url': 'https://www.linkedin.com/in/johnmccartney1', 'location': 'Los Angeles, California, United States'}, {'name': 'AdExchanger (', 'linkedin_url': 'https://twitter.com/adexchanger'}, {'name': 'John Macadam', 'linkedin_url': 'https://ar.linkedin.com/in/jmacadam', 'location': 'Argentina'}, {'name': 'John Labuzan', 'linkedin_url': 'https://fr.linkedin.com/in/johnlabuzan', 'location': 'Bordeaux, Nouvelle-Aquitaine, France'}, {'name': 'John Straw', 'linkedin_url': 'https://uk.linkedin.com/in/johnstraw', 'location': 'London'}]}"
     ]
    },
    {
     "name": "stdout",
     "output_type": "stream",
     "text": [
      "\n",
      "Execution complete...\n"
     ]
    },
    {
     "name": "stdout",
     "output_type": "stream",
     "text": [
      "1 {'data': [{'name': 'Mike', 'linkedin_url': 'https://www.linkedin.com/company/mike'}, {'name': 'Mike Volpe', 'linkedin_url': 'https://www.linkedin.com/in/mikevolpe', 'location': 'Cambridge, Massachusetts, United States'}, {'name': 'Mike Holland', 'linkedin_url': 'https://in.linkedin.com/in/mike-holland-17599a9'}, {'name': 'Mike Tamir, PhD', 'linkedin_url': 'https://www.linkedin.com/in/miketamir', 'location': 'San Francisco Bay'}, {'name': 'Mike Derezin', 'linkedin_url': 'https://www.linkedin.com/in/mikederezin'}, {'name': 'Mike Asem', 'linkedin_url': 'https://www.linkedin.com/in/dmikeasem'}, {'name': 'Mike Anderson', 'linkedin_url': 'https://www.linkedin.com/in/mikeanderson9'}, {'name': 'Michael Page', 'linkedin_url': 'https://www.linkedin.com/company/michael-page', 'location': 'PageGroup, Addlestone, KT15 2QW, WEYBRIDGE'}, {'name': 'Mike McCoy', 'linkedin_url': 'https://www.linkedin.com/in/mikemccoyphl', 'location': 'Philadelphia, Pennsylvania, United States'}, {'name': 'Mike Gerbis', 'linkedin_url': 'https://ca.linkedin.com/in/mike-gerbis-4477309', 'location': 'Ottawa, Ontario, Canada'}, {'name': 'Mike Telem', 'linkedin_url': 'https://il.linkedin.com/in/miketelem', 'location': 'Israel'}, {'name': 'Mike Yeadon', 'linkedin_url': 'https://uk.linkedin.com/in/mike-yeadon-3818613', 'location': 'Canterbury, England, United Kingdom'}, {'name': 'Mike Erlin', 'linkedin_url': 'https://au.linkedin.com/in/mikeerlin', 'location': 'Sydney, New South Wales, Australia'}, {'name': 'Mike Baliman', 'linkedin_url': 'https://uk.linkedin.com/in/mikebaliman', 'location': 'London, England, United Kingdom'}, {'name': 'Mike Segall', 'linkedin_url': 'https://uk.linkedin.com/in/mikesegall', 'location': 'Aylesbury Vale, England, United Kingdom'}, {'name': 'Mike Crump', 'linkedin_url': 'https://ca.linkedin.com/in/mikecrump', 'location': 'North Vancouver, British Columbia, Canada'}, {'name': 'Mike Griffiths', 'linkedin_url': 'https://ca.linkedin.com/in/mikegriffiths', 'location': 'Alberta, Canada'}, {'name': 'Michael Gan', 'linkedin_url': 'https://sc.linkedin.com/in/themichaelgan', 'location': 'Seychelles'}, {'name': 'Mike Mahon', 'linkedin_url': 'https://www.linkedin.com/in/mahonmike', 'location': 'Boulder, Colorado, United States'}, {'name': 'Mike Erlin', 'linkedin_url': 'https://au.linkedin.com/in/mikeerlin', 'location': 'Sydney, New South Wales, Australia'}, {'name': 'Mike Strople', 'linkedin_url': 'https://ca.linkedin.com/in/mikestrople', 'location': 'Oakville, Ontario, Canada'}, {'name': 'Mike Baliman', 'linkedin_url': 'https://uk.linkedin.com/in/mikebaliman', 'location': 'London, England, United Kingdom'}, {'name': 'Mike Griffiths', 'linkedin_url': 'https://ca.linkedin.com/in/mikegriffiths', 'location': 'Alberta, Canada'}, {'name': 'Mike Yeadon', 'linkedin_url': 'https://uk.linkedin.com/in/mike-yeadon-3818613', 'location': 'Canterbury, England, United Kingdom'}, {'name': 'Mike Barry', 'linkedin_url': 'https://uk.linkedin.com/in/mike-barry-9b6ab722', 'location': 'London, England, United Kingdom'}, {'name': 'Mike Segall', 'linkedin_url': 'https://uk.linkedin.com/in/mikesegall', 'location': 'Aylesbury Vale, England, United Kingdom'}, {'name': 'Mike Lander', 'linkedin_url': 'https://uk.linkedin.com/in/mikelander', 'location': 'London, England, United Kingdom'}, {'name': 'Mike Emmett', 'linkedin_url': 'https://au.linkedin.com/in/mpemmett', 'location': 'Greater Sydney'}, {'name': 'Mike Mahon', 'linkedin_url': 'https://www.linkedin.com/in/mahonmike', 'location': 'Boulder, Colorado, United States'}, {'name': 'Mike Brown', 'linkedin_url': 'https://za.linkedin.com/in/mike-brown-40992133', 'location': 'City of Johannesburg, Gauteng, South Africa'}, {'name': 'Mike Bracken', 'linkedin_url': 'https://uk.linkedin.com/in/mike-bracken-27b173', 'location': 'London, England, United Kingdom'}, {'name': 'Mike Cannon', 'linkedin_url': 'https://au.linkedin.com/in/mcannonbrookes', 'location': 'Greater Sydney'}, {'name': 'Mike Sutton', 'linkedin_url': 'https://es.linkedin.com/in/mikesutton', 'location': 'Andalucía, España'}, {'name': 'Mike Lander', 'linkedin_url': 'https://uk.linkedin.com/in/mikelander', 'location': 'London, England, United Kingdom'}, {'name': 'Mike Costache', 'linkedin_url': 'https://ro.linkedin.com/in/mikecostache', 'location': 'Bucureşti, România'}, {'name': 'Mike Rich', 'linkedin_url': 'https://au.linkedin.com/in/mike-rich-51501020', 'location': 'Manly, New South Wales, Australia'}, {'name': 'Mike Westbury', 'linkedin_url': 'https://nz.linkedin.com/in/mikewestbury', 'location': 'Wellington, Wellington Region, New Zealand'}, {'name': 'Michael Ouissi – Deutschland', 'linkedin_url': 'https://de.linkedin.com/in/michaelouissi', 'location': 'Deutschland'}, {'name': 'Mike Mahon', 'linkedin_url': 'https://www.linkedin.com/in/mahonmike', 'location': 'Boulder, Colorado, United States'}, {'name': 'Mike Cannon', 'linkedin_url': 'https://au.linkedin.com/in/mcannonbrookes', 'location': 'Greater Sydney'}, {'name': 'Mike Diamond', 'linkedin_url': 'https://au.linkedin.com/in/mikediamond1', 'location': 'Greater Sydney'}, {'name': 'Michael Onyango', 'linkedin_url': 'https://ke.linkedin.com/in/michaelonyango', 'location': 'Kenya'}, {'name': 'Mike Westbury', 'linkedin_url': 'https://nz.linkedin.com/in/mikewestbury', 'location': 'Wellington, Wellington Region, New Zealand'}, {'name': 'Michael Terpin', 'linkedin_url': 'https://pr.linkedin.com/in/michaelterpin', 'location': 'San Juan, Puerto Rico'}, {'name': 'Michael Ouissi – Deutschland', 'linkedin_url': 'https://de.linkedin.com/in/michaelouissi', 'location': 'Deutschland'}, {'name': 'Michael E. Moriarty', 'linkedin_url': 'https://hk.linkedin.com/in/michaelemoriarty', 'location': 'Hong Kong SAR'}, {'name': 'Michael Humblet', 'linkedin_url': 'https://be.linkedin.com/in/michaelhumblet', 'location': 'Brussels Metropolitan'}, {'name': 'Mike Mahon', 'linkedin_url': 'https://www.linkedin.com/in/mahonmike', 'location': 'Boulder, Colorado, United States'}, {'name': 'Michael Eisenberg', 'linkedin_url': 'https://il.linkedin.com/in/mieisenberg', 'location': 'Israel'}, {'name': 'Michael Terpin', 'linkedin_url': 'https://pr.linkedin.com/in/michaelterpin', 'location': 'San Juan, Puerto Rico'}, {'name': 'Mike Schussler', 'linkedin_url': 'https://za.linkedin.com/in/mike-schussler-7405aa7', 'location': 'City of Johannesburg, Gauteng, South Africa'}, {'name': 'Michael Ting', 'linkedin_url': 'https://hk.linkedin.com/in/michael-ting-4a7a4b10', 'location': 'Hong Kong SAR'}, {'name': 'Michael Humblet', 'linkedin_url': 'https://be.linkedin.com/in/michaelhumblet', 'location': 'Brussels Metropolitan'}, {'name': 'Michael Sidler', 'linkedin_url': 'https://ch.linkedin.com/in/sidler', 'location': 'Zürich, Schweiz'}, {'name': 'Mike Mahon', 'linkedin_url': 'https://www.linkedin.com/in/mahonmike', 'location': 'Boulder, Colorado, United States'}, {'name': 'Michael Eisenberg', 'linkedin_url': 'https://il.linkedin.com/in/mieisenberg', 'location': 'Israel'}, {'name': 'Michael Shlayen', 'linkedin_url': 'https://il.linkedin.com/in/mshlayen', 'location': 'Tel Aviv, Israel'}, {'name': 'Michael Ting', 'linkedin_url': 'https://hk.linkedin.com/in/michael-ting-4a7a4b10', 'location': 'Hong Kong SAR'}, {'name': 'Michael Sidler', 'linkedin_url': 'https://ch.linkedin.com/in/sidler', 'location': 'Zürich, Schweiz'}, {'name': 'Michael Lewrick, Ph.D, MBA', 'linkedin_url': 'https://ch.linkedin.com/in/michael-lewrick', 'location': 'Zürich, Zürich, Schweiz'}, {'name': 'Michael \"HutcH\" Hutchison', 'linkedin_url': 'https://pr.linkedin.com/in/michaelhutch', 'location': 'San Juan, Puerto Rico'}, {'name': 'Michael Houghton', 'linkedin_url': 'https://ie.linkedin.com/in/michael-houghton', 'location': 'County Limerick, Ireland'}, {'name': 'Mike Mahon', 'linkedin_url': 'https://www.linkedin.com/in/mahonmike', 'location': 'Boulder, Colorado, United States'}, {'name': 'Michael Trautmann – Co', 'linkedin_url': 'https://de.linkedin.com/in/michaeltrautmann64', 'location': 'Hamburg und Umgebung'}, {'name': 'Michael Custers', 'linkedin_url': 'https://be.linkedin.com/in/michael', 'location': 'Leuven, Flemish Region, Belgium'}, {'name': 'Michael Hui', 'linkedin_url': 'https://hk.linkedin.com/in/michaelyhui', 'location': 'Hong Kong SAR'}, {'name': 'Mike Green', 'linkedin_url': 'https://au.linkedin.com/in/michaelallangreen', 'location': 'Sydney, New South Wales, Australia'}, {'name': 'Mike McCoy', 'linkedin_url': 'https://www.linkedin.com/in/mikemccoyphl', 'location': 'Philadelphia, Pennsylvania, United States'}, {'name': 'Michael Guillou', 'linkedin_url': 'https://fr.linkedin.com/in/michael-guillou-5b62199a', 'location': 'Paris et périphérie'}, {'name': 'Michael Trautmann – Co', 'linkedin_url': 'https://de.linkedin.com/in/michaeltrautmann64', 'location': 'Hamburg und Umgebung'}, {'name': 'Michael C. Wenderoth', 'linkedin_url': 'https://es.linkedin.com/in/michaelchangwenderoth', 'location': 'Madrid y alrededores'}, {'name': 'Michael Hui', 'linkedin_url': 'https://hk.linkedin.com/in/michaelyhui', 'location': 'Hong Kong SAR'}, {'name': 'Michael Custers', 'linkedin_url': 'https://be.linkedin.com/in/michael', 'location': 'Leuven, Flemish Region, Belgium'}, {'name': 'Mike Havard', 'linkedin_url': 'https://uk.linkedin.com/in/mike-havard-5913401', 'location': 'United Kingdom'}, {'name': 'Michael Carden (he/him)', 'linkedin_url': 'https://nz.linkedin.com/in/michaelcarden', 'location': 'New Zealand'}, {'name': 'Michael Otter', 'linkedin_url': 'https://at.linkedin.com/in/michaelotter', 'location': 'Wien, Wien, Österreich'}, {'name': 'Michael AMAR', 'linkedin_url': 'https://fr.linkedin.com/in/amarmic', 'location': 'Paris et périphérie'}, {'name': 'Michael Ye', 'linkedin_url': 'https://hk.linkedin.com/in/michaelye', 'location': 'Hong Kong SAR'}, {'name': 'Michael Wilkerson', 'linkedin_url': 'https://ug.linkedin.com/in/michaeljwilkerson', 'location': 'Uganda'}, {'name': 'Michael Van Duijn', 'linkedin_url': 'https://nl.linkedin.com/in/michaelvanduijn', 'location': 'Randstad'}]}\n"
     ]
    },
    {
     "name": "stdout",
     "output_type": "stream",
     "text": [
      "Execution complete...\n"
     ]
    },
    {
     "name": "stdout",
     "output_type": "stream",
     "text": [
      "1 {'data': [{'name': 'Robert Walters', 'linkedin_url': 'https://in.linkedin.com/company/robert-walters', 'location': \"11 Slingsby Place, St. Martin's Courtyard, London, WC2E 9AB, GREATER LONDON\"}, {'name': 'Robert Half', 'linkedin_url': 'https://www.linkedin.com/company/robert-half-international'}, {'name': 'Divya Robert', 'linkedin_url': 'https://in.linkedin.com/in/divya-robert-90aa66148'}, {'name': 'Robert Popovian', 'linkedin_url': 'https://www.linkedin.com/in/robert-popovian', 'location': 'Washington, District of Columbia, United States'}, {'name': 'Robert E. Moritz', 'linkedin_url': 'https://www.linkedin.com/in/robertemoritz', 'location': 'New York, New York, United States'}, {'name': 'Robert West', 'linkedin_url': 'https://www.linkedin.com/company/robert-west'}, {'name': 'Robert E. Moritz', 'linkedin_url': 'https://www.linkedin.com/in/robertemoritz', 'location': 'New York, New York, United States'}, {'name': 'Robert Popovian', 'linkedin_url': 'https://www.linkedin.com/in/robert-popovian'}, {'name': 'Robert K. Chu', 'linkedin_url': 'https://uk.linkedin.com/in/robert', 'location': 'London, England, United Kingdom'}, {'name': 'Robert J.', 'linkedin_url': 'https://ca.linkedin.com/in/robert-joseph-2001', 'location': 'Edmonton, Alberta, Canada'}, {'name': 'Robert Beckerman', 'linkedin_url': 'https://ca.linkedin.com/in/robertbeckerman', 'location': 'Toronto, Ontario, Canada'}, {'name': 'Robert Ciemniak', 'linkedin_url': 'https://hk.linkedin.com/in/robert-ciemniak-52734', 'location': 'Hong Kong, Hong Kong SAR'}, {'name': 'Robert Oikle', 'linkedin_url': 'https://ca.linkedin.com/in/roikle', 'location': 'Canada'}, {'name': 'Robert Vis', 'linkedin_url': 'https://nl.linkedin.com/in/robertvis', 'location': 'Amsterdam, Noord-Holland, Nederland'}, {'name': 'Robert Walters', 'linkedin_url': 'https://uk.linkedin.com/company/robert-walters'}, {'name': 'Robert Katai', 'linkedin_url': 'https://ro.linkedin.com/in/katairobi', 'location': 'Cluj-Napoca, Cluj, România'}, {'name': 'Robert Feranec', 'linkedin_url': 'https://www.linkedin.com/in/robfer', 'location': 'San Jose, California, United States'}, {'name': 'Robert Vis', 'linkedin_url': 'https://nl.linkedin.com/in/robertvis', 'location': 'Amsterdam, Noord-Holland, Nederland'}, {'name': 'Robert Kienzle', 'linkedin_url': 'https://hk.linkedin.com/in/robertkienzle', 'location': 'Hong Kong SAR'}, {'name': 'Robert Chew', 'linkedin_url': 'https://sg.linkedin.com/in/robertchewsg', 'location': 'Singapore'}, {'name': 'Robert Ciemniak', 'linkedin_url': 'https://hk.linkedin.com/in/robert-ciemniak-52734', 'location': 'Hong Kong, Hong Kong SAR'}, {'name': 'Robert Katai', 'linkedin_url': 'https://ro.linkedin.com/in/katairobi', 'location': 'Cluj-Napoca, Cluj, România'}, {'name': 'Robert Bean (ret)', 'linkedin_url': 'https://ca.linkedin.com/in/robertbeanret', 'location': 'Calgary, Alberta, Canada'}, {'name': 'Robert Madeira', 'linkedin_url': 'https://uk.linkedin.com/in/robertmadeira', 'location': 'London'}, {'name': 'Robert Denbeigh', 'linkedin_url': 'https://uk.linkedin.com/in/denbeigh', 'location': 'United Kingdom'}, {'name': 'Robert Feranec', 'linkedin_url': 'https://www.linkedin.com/in/robfer', 'location': 'San Jose, California, United States'}, {'name': 'Robert Murray', 'linkedin_url': 'https://ca.linkedin.com/in/robertsmurray1', 'location': 'Greater Vancouver Metropolitan'}, {'name': 'Robert J. Weese', 'linkedin_url': 'https://ca.linkedin.com/in/bobweese', 'location': 'Greater Toronto'}, {'name': 'Robert Gryn', 'linkedin_url': 'https://cr.linkedin.com/in/robertgryn'}, {'name': 'Robert Denbeigh', 'linkedin_url': 'https://uk.linkedin.com/in/denbeigh', 'location': 'United Kingdom'}, {'name': 'Robert A Belle,ACCA', 'location': 'Kenya'}, {'name': 'Robert Racine (F.APS)', 'linkedin_url': 'https://uk.linkedin.com/in/robertracine', 'location': 'London, United Kingdom'}, {'name': 'Robert Gerrish', 'linkedin_url': 'https://au.linkedin.com/in/robertgerrish', 'location': 'Greater Sydney'}, {'name': 'Robert Craven', 'linkedin_url': 'https://uk.linkedin.com/in/robertcraven', 'location': 'Bath, United Kingdom'}, {'name': 'Robert Feranec', 'linkedin_url': 'https://www.linkedin.com/in/robfer', 'location': 'San Jose, California, United States'}, {'name': 'Robert J. Weese', 'linkedin_url': 'https://ca.linkedin.com/in/bobweese', 'location': 'Greater Toronto'}, {'name': 'Robert Gryn', 'linkedin_url': 'https://cr.linkedin.com/in/robertgryn'}, {'name': 'Robert Gerrish', 'linkedin_url': 'https://au.linkedin.com/in/robertgerrish', 'location': 'Greater Sydney'}, {'name': 'Robert Dix', 'linkedin_url': 'https://ie.linkedin.com/in/robert-dix-a8563013', 'location': 'Ireland'}, {'name': 'Robert Stulle – Co', 'linkedin_url': 'https://de.linkedin.com/in/robertstulle', 'location': 'Metropolregion Berlin/Brandenburg'}, {'name': 'Robert Brassai', 'linkedin_url': 'https://hu.linkedin.com/in/robertbrassai', 'location': 'Budapest Metropolitan'}, {'name': 'Robert van Geffen', 'linkedin_url': 'https://nl.linkedin.com/in/robertvangeffen', 'location': 'Amsterdam, Noord-Holland, Nederland'}, {'name': 'Robert Heldt', 'linkedin_url': 'https://jp.linkedin.com/in/robertheldt', 'location': '日本 東京'}, {'name': 'Robert Mesaros', 'linkedin_url': 'https://sk.linkedin.com/in/rmsoft', 'location': 'Slovak Republic'}, {'name': 'Robert Feranec', 'linkedin_url': 'https://www.linkedin.com/in/robfer', 'location': 'San Jose, California, United States'}, {'name': 'Robert Martin', 'linkedin_url': 'https://ca.linkedin.com/in/robertwmartin', 'location': 'Edmonton, Alberta, Canada'}, {'name': 'Robert Gentz – Co', 'linkedin_url': 'https://de.linkedin.com/in/robert-gentz-81988140', 'location': 'Metropolregion Berlin/Brandenburg'}, {'name': 'Robert Kerssing', 'linkedin_url': 'https://nl.linkedin.com/in/kerssing', 'location': 'Randstad'}, {'name': 'Robert Hurst', 'linkedin_url': 'https://es.linkedin.com/in/roberthurst001', 'location': 'Marbella, Andalucía, España'}, {'name': 'Robert Brassai', 'linkedin_url': 'https://hu.linkedin.com/in/robertbrassai', 'location': 'Budapest Metropolitan'}, {'name': 'Robert Leefmans', 'linkedin_url': 'https://nl.linkedin.com/in/leefmans', 'location': 'Rotterdam, Zuid-Holland, Nederland'}, {'name': 'Robert van Geffen', 'linkedin_url': 'https://nl.linkedin.com/in/robertvangeffen', 'location': 'Amsterdam, Noord-Holland, Nederland'}, {'name': 'Robert Mesaros', 'linkedin_url': 'https://sk.linkedin.com/in/rmsoft', 'location': 'Slovak Republic'}, {'name': 'Robert Hoban', 'linkedin_url': 'https://ie.linkedin.com/in/rjhob', 'location': 'Ireland'}, {'name': 'Robert Feranec', 'linkedin_url': 'https://www.linkedin.com/in/robfer', 'location': 'San Jose, California, United States'}, {'name': 'Robert Hurst', 'linkedin_url': 'https://es.linkedin.com/in/roberthurst001', 'location': 'Marbella, Andalucía, España'}, {'name': 'Robert Bouland', 'linkedin_url': 'https://nl.linkedin.com/in/robertbouland', 'location': 'Amsterdam, Noord-Holland, Nederland'}, {'name': 'Robert Driessen', 'linkedin_url': 'https://nl.linkedin.com/in/robert-driessen', 'location': 'Oss, Noord-Brabant, Nederland'}, {'name': 'Robert Kerssing', 'linkedin_url': 'https://nl.linkedin.com/in/kerssing', 'location': 'Randstad'}, {'name': 'Robert Burén', 'linkedin_url': 'https://se.linkedin.com/in/robertburen', 'location': 'Stockholmsområdet'}, {'name': 'Robert Coorey', 'linkedin_url': 'https://au.linkedin.com/in/robertcoorey', 'location': 'Sydney, New South Wales, Australia'}, {'name': 'Robert Leefmans', 'linkedin_url': 'https://nl.linkedin.com/in/leefmans', 'location': 'Rotterdam, Zuid-Holland, Nederland'}, {'name': 'Robert Heinecke', 'linkedin_url': 'https://de.linkedin.com/in/heinecke/en', 'location': 'Greater Hamburg'}, {'name': 'Robert Lauritzen – CEO and Co', 'linkedin_url': 'https://dk.linkedin.com/in/rmlauritzen', 'location': 'København, Hovedstaden, Danmark'}, {'name': 'Robert Feranec', 'linkedin_url': 'https://www.linkedin.com/in/robfer', 'location': 'San Jose, California, United States'}, {'name': 'Robert Mundigl – CEO', 'linkedin_url': 'https://de.linkedin.com/in/robert-mundigl-23760233', 'location': 'Metropolregion München'}, {'name': 'Robert Lauritzen – CEO and Co', 'linkedin_url': 'https://dk.linkedin.com/in/rmlauritzen', 'location': 'København, Hovedstaden, Danmark'}, {'name': 'Robert Viglione', 'linkedin_url': 'https://pr.linkedin.com/in/robert-viglione-2780634', 'location': 'San Juan, Puerto Rico'}, {'name': 'Robert Heinecke', 'linkedin_url': 'https://de.linkedin.com/in/heinecke/en', 'location': 'Greater Hamburg'}, {'name': 'Robert Bouten', 'linkedin_url': 'https://be.linkedin.com/in/robertbouten', 'location': 'Brussels Metropolitan'}, {'name': 'Robert Govers', 'linkedin_url': 'https://be.linkedin.com/in/rgovers', 'location': 'Antwerp, Flemish Region, Belgium'}, {'name': 'Robert Seeger', 'linkedin_url': 'https://at.linkedin.com/in/bobseeger/en', 'location': 'Austria'}, {'name': 'Robert Milan', 'linkedin_url': 'https://gt.linkedin.com/in/robert-milan', 'location': 'Guatemala'}, {'name': 'Robert Feranec', 'linkedin_url': 'https://www.linkedin.com/in/robfer', 'location': 'San Jose, California, United States'}, {'name': 'Robert Mundigl – CEO', 'linkedin_url': 'https://de.linkedin.com/in/robert-mundigl-23760233', 'location': 'Metropolregion München'}, {'name': 'Robert Gerlach – CEO & Co', 'linkedin_url': 'https://de.linkedin.com/in/drrobertgerlach', 'location': 'Berlin, Berlin, Deutschland'}, {'name': 'Robert Gryn – CEO – Metahero', 'linkedin_url': 'https://pl.linkedin.com/in/robertgryn'}, {'name': 'Robert Szabo', 'linkedin_url': 'https://cz.linkedin.com/in/srobert1953', 'location': 'Česko'}, {'name': 'Robert Smith', 'linkedin_url': 'https://nz.linkedin.com/in/robbosmith', 'location': 'Morrinsville, Waikato, New Zealand'}, {'name': 'Alexis Robert', 'linkedin_url': 'https://fr.linkedin.com/in/robertalexis/en', 'location': 'Greater Paris Metropolitan Region'}, {'name': 'Robert Millar', 'linkedin_url': 'https://jp.linkedin.com/in/010101', 'location': '広域東京エリア'}, {'name': 'Robert Feranec', 'linkedin_url': 'https://www.linkedin.com/in/robfer', 'location': 'San Jose, California, United States'}, {'name': 'Robert Heinecke', 'linkedin_url': 'https://de.linkedin.com/in/heinecke/en', 'location': 'Greater Hamburg'}, {'name': 'Robert Lauritzen – CEO and Co', 'linkedin_url': 'https://dk.linkedin.com/in/rmlauritzen', 'location': 'København, Hovedstaden, Danmark'}, {'name': 'Robert Anderson', 'linkedin_url': 'https://nz.linkedin.com/in/robertwilliamanderson', 'location': 'Auckland, Auckland, New Zealand'}, {'name': 'Robert Viglione', 'linkedin_url': 'https://pr.linkedin.com/in/robert-viglione-2780634', 'location': 'San Juan, Puerto Rico'}, {'name': 'Robert Seeger', 'linkedin_url': 'https://at.linkedin.com/in/bobseeger/en', 'location': 'Austria'}, {'name': 'Robert Sraka', 'linkedin_url': 'https://si.linkedin.com/in/robertsraka', 'location': 'Slovenia'}, {'name': 'Robert McLeod', 'linkedin_url': 'https://be.linkedin.com/in/robert-mcleod-5622052', 'location': 'Brussels Region, Belgium'}]}\n"
     ]
    },
    {
     "name": "stdout",
     "output_type": "stream",
     "text": [
      "Execution complete...\n"
     ]
    }
   ],
   "source": [
    "import re\n",
    "from time import sleep\n",
    "from selenium import webdriver\n",
    "from selenium.webdriver.support.ui import Select, WebDriverWait\n",
    "from selenium.webdriver.chrome.options import Options\n",
    "chrome_options = Options()\n",
    "from webdriver_manager.chrome import ChromeDriverManager\n",
    "import pandas as pd\n",
    "from multiprocessing import Pool\n",
    "\n",
    "def bingDetailFetcher(name):\n",
    "    final = []\n",
    "\n",
    "    d1 = webdriver.Chrome(ChromeDriverManager().install(), options=chrome_options)\n",
    "    start_url = 'https://www.bing.com/?FORM=Z9FD1'\n",
    "    d1.get(start_url)\n",
    "    d1.maximize_window()\n",
    "\n",
    "    platform = 'linkedin'\n",
    "\n",
    "    search_tab = d1.find_elements_by_id('sb_form_q')[0]\n",
    "    search_tab.send_keys(f'{name} {platform}')\n",
    "\n",
    "    from selenium.webdriver.common.keys import Keys\n",
    "    d1.find_element_by_id(\"sb_form_q\").send_keys(Keys.ENTER)\n",
    "\n",
    "    page_content = d1.find_elements_by_class_name(\"b_algo\")\n",
    "\n",
    "    result = []\n",
    "    for x in page_content:\n",
    "        result.append(x.text)\n",
    "\n",
    "    for values in result:\n",
    "        dic = {}\n",
    "        name = values.split('\\n')[0].replace('-', '@').replace('|', '@').split('@')[0].strip()\n",
    "        if 'profiles' in name:\n",
    "            name = ''\n",
    "        else:\n",
    "            name = name\n",
    "        if name:\n",
    "            dic['name'] = name\n",
    "\n",
    "        if name:\n",
    "\n",
    "            for val in values.split('\\n'):\n",
    "                if re.search(r'https:|http', val):\n",
    "                    if len(val) >= 60:\n",
    "                        pass\n",
    "                    else:\n",
    "                        profile_url = val.strip()\n",
    "                        if profile_url:\n",
    "                            profile_url = profile_url\n",
    "                        else:\n",
    "                            profile_url = None\n",
    "\n",
    "                        dic['linkedin_url'] = profile_url\n",
    "\n",
    "            for val in values.split('\\n'):\n",
    "                if re.search(r'Location|location', val):\n",
    "                    location = val.split(':')[1].strip()\n",
    "                    if location:\n",
    "                        location = location\n",
    "                    else:\n",
    "                        location = None\n",
    "\n",
    "                    dic['location'] = location\n",
    "\n",
    "        if len(dic) > 0:\n",
    "            final.append(dic)\n",
    "\n",
    "    sleep(2)\n",
    "\n",
    "    for i in range(9):\n",
    "\n",
    "        element = d1.find_element_by_class_name('sb_pagN.sb_pagN_bp.b_widePag.sb_bp ')\n",
    "        d1.execute_script(\"arguments[0].click();\", element)\n",
    "\n",
    "        page_content = d1.find_elements_by_class_name(\"b_algo\")\n",
    "\n",
    "        result = []\n",
    "        for x in page_content:\n",
    "            result.append(x.text)\n",
    "\n",
    "        for values in result:\n",
    "            dic = {}\n",
    "            name = values.split('\\n')[0].replace('-', '@').replace('|', '@').split('@')[0].strip()\n",
    "            if 'profiles' in name:\n",
    "                name = ''\n",
    "            elif len(name) > 30:\n",
    "                name = ''\n",
    "            else:\n",
    "                name = name\n",
    "            if name:\n",
    "                dic['name'] = name\n",
    "\n",
    "            if name:\n",
    "\n",
    "                for val in values.split('\\n'):\n",
    "                    if re.search(r'https:|http', val):\n",
    "                        if len(val) >= 60:\n",
    "                            pass\n",
    "                        else:\n",
    "                            profile_url = val.strip()\n",
    "                            if profile_url:\n",
    "                                profile_url = profile_url\n",
    "                            else:\n",
    "                                profile_url = None\n",
    "\n",
    "                            dic['linkedin_url'] = profile_url\n",
    "\n",
    "                for val in values.split('\\n'):\n",
    "                    if re.search(r'Location|location', val):\n",
    "                        location = val.split(':')[1].strip()\n",
    "                        if location:\n",
    "                            location = location\n",
    "                        else:\n",
    "                            location = None\n",
    "                        dic['location'] = location\n",
    "\n",
    "            if len(dic) > 0:\n",
    "                final.append(dic)\n",
    "\n",
    "    final_dataset = {'data': final}\n",
    "    print(len(final_dataset), final_dataset)\n",
    "    print('Execution complete...')\n",
    "    d1.close()\n",
    "    d1.quit()\n",
    "\n",
    "    return final_dataset\n",
    "\n",
    "\n",
    "# def csvHandler():\n",
    "#     name_list = []\n",
    "#     df = pd.read_csv('us_names.csv')\n",
    "#     list_data = df.values.tolist()\n",
    "\n",
    "#     for list_ in list_data:\n",
    "#         for value in list_:\n",
    "#             name_list.append(value)\n",
    "\n",
    "#     name_data = []\n",
    "#     count = 0\n",
    "#     for names in range(len(name_list)):\n",
    "#         name_pair = name_list[count:count + 3]\n",
    "#         count += 3\n",
    "#         if name_pair:\n",
    "\n",
    "#             name_data.append(name_pair)\n",
    "\n",
    "\n",
    "#     return name_data\n",
    "names = ['John','Mike','Robert']\n",
    "\n",
    "# name_data = csvHandler()\n",
    "# for names in name_data:\n",
    "pool = Pool(3)\n",
    "results = pool.map(bingDetailFetcher, names)\n"
   ]
  },
  {
   "cell_type": "code",
   "execution_count": null,
   "metadata": {},
   "outputs": [],
   "source": []
  }
 ],
 "metadata": {
  "kernelspec": {
   "display_name": "Python 3",
   "language": "python",
   "name": "python3"
  },
  "language_info": {
   "codemirror_mode": {
    "name": "ipython",
    "version": 3
   },
   "file_extension": ".py",
   "mimetype": "text/x-python",
   "name": "python",
   "nbconvert_exporter": "python",
   "pygments_lexer": "ipython3",
   "version": "3.8.5"
  }
 },
 "nbformat": 4,
 "nbformat_minor": 4
}
